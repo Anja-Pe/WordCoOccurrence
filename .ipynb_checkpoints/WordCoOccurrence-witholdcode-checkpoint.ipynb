{
 "cells": [
  {
   "cell_type": "markdown",
   "id": "475a9451-98e0-45df-803c-2be07142ffe7",
   "metadata": {},
   "source": [
    "# Word Co-occurences\n",
    "\n",
    "To analyse co-occurences of topics of LGBTIQ datasets and visualize them:\n",
    "\n",
    "https://rainynotes.net/co-occurrence-matrix-visualization/\n",
    "\n",
    "Steps:\n",
    "- Write topics in a text file, one line per id/dataset\n",
    "- Count Vector Representation\n",
    "- Turn into matrix\n",
    "\n",
    "(Visualization of the co-occurrence matrix network is done by using Gephi, a open-source software to visualize network.)\n",
    "\n",
    "More on CountVectorizer:\n",
    "\n",
    "https://medium.com/swlh/understanding-count-vectorizer-5dd71530c1b "
   ]
  },
  {
   "cell_type": "markdown",
   "id": "45717a5a-d758-408c-991d-58d75df32aeb",
   "metadata": {},
   "source": [
    "## Write topics in a text file, one line per id/dataset"
   ]
  },
  {
   "cell_type": "code",
   "execution_count": 66,
   "id": "11a5cbf6-19b2-41e4-b48e-5a0e74a9f4f4",
   "metadata": {
    "tags": []
   },
   "outputs": [
    {
     "name": "stderr",
     "output_type": "stream",
     "text": [
      "C:\\Users\\klaukiaa\\AppData\\Local\\Temp\\ipykernel_10080\\1782891747.py:9: FutureWarning: DataFrame.applymap has been deprecated. Use DataFrame.map instead.\n",
      "  df = df.applymap(str).groupby('ident')['topics_level_1'].apply(list).to_dict()\n"
     ]
    }
   ],
   "source": [
    "import pandas as pd\n",
    "from slugify import slugify\n",
    "\n",
    "df = pd.read_csv(\"keywords_LGBTIQ_datasets.csv\", sep = ';', encoding=\"latin-1\")\n",
    "df = df.rename(columns={'id': 'ident'})\n",
    "\n",
    "# Read csv into dictionary with ident as keys and topics as values (in a list)\n",
    "# 2nd answer here: https://stackoverflow.com/questions/56062627/converting-csv-to-dictionary-with-one-column-as-keys-and-one-column-as-its-value \n",
    "df = df.applymap(str).groupby('ident')['topics_level_1'].apply(list).to_dict()\n",
    "#print(df)\n",
    "\n",
    "# Iterate over dictionary: https://realpython.com/iterate-through-dictionary-python/\n",
    "# Convert list to string: https://www.freecodecamp.org/news/python-list-to-string-how-to-convert-lists-in-python/ \n",
    "for key in df:\n",
    "    #print(df[key])\n",
    "    with open(\"output.txt\", 'w') as f:\n",
    "        f.write('[')\n",
    "        for key in df:\n",
    "            string_list = [slugify(element) for element in df[key]]  # turns list into string and changes topics to dashes instead of spaces\n",
    "            res = list(map(lambda st: str.replace(st, \"-\", \"_\"), string_list))   # Changes - to _ (necessary to be treated as one word later)\n",
    "            delimiter = \" \"\n",
    "            result_string = delimiter.join(res)\n",
    "            f.write('\"%s\",\\n' % (result_string)) \n",
    "        f.write(']')\n"
   ]
  },
  {
   "cell_type": "markdown",
   "id": "a63d42c7-e9f9-403d-ba9b-1670b8fb12e7",
   "metadata": {
    "tags": []
   },
   "source": [
    "## Count Vector Representation\n",
    "\n",
    "CountVectorizer is used to transform a given text into a vector on the basis of the frequency (count) of each word that occurs in the entire text.\n",
    "\n",
    "https://www.geeksforgeeks.org/using-countvectorizer-to-extracting-features-from-text/\n",
    "\n",
    "https://scikit-learn.org/stable/modules/generated/sklearn.feature_extraction.text.CountVectorizer.html"
   ]
  },
  {
   "cell_type": "markdown",
   "id": "7ed6afff-484e-48e1-b658-d9f52004cb85",
   "metadata": {},
   "source": [
    "### Tokenize\n",
    "First change tokenizing behavior by using options in CountVectorizer."
   ]
  },
  {
   "cell_type": "code",
   "execution_count": 67,
   "id": "2446bc39-e43f-4e02-b1d3-952d15cb1e68",
   "metadata": {
    "tags": []
   },
   "outputs": [
    {
     "name": "stdout",
     "output_type": "stream",
     "text": [
      "{'14_social_stratification_and_groupings': 13, '16_society_and_culture': 15, '08_law_crime_and_legal_systems': 7, '04_health': 3, '19_other': 18, '07_labour_and_employment': 6, '11_politics': 10, '05_history': 4, '01_demography_population_vital_statistics_and_censuses': 0, '13_science_and_technology': 12, '03_education': 2, '06_housing_and_land_use': 5, '02_economics': 1, '09_media_communication_and_language': 8, '15_social_welfare_policy_and_systems': 14, '18_transport_and_travel': 17, '17_trade_industry_and_markets': 16, '12_psychology': 11, '10_natural_environment': 9}\n"
     ]
    }
   ],
   "source": [
    "from sklearn.feature_extraction.text import CountVectorizer\n",
    "\n",
    "f = open(\"output.txt\", \"r\")\n",
    "\n",
    "count_vect = CountVectorizer()\n",
    "count_vect.fit(f)\n",
    "\n",
    "print(count_vect.vocabulary_)\n",
    "# --> Unique words along with indeces (= words sorted alphabetically, index is the place in the sorted list)"
   ]
  },
  {
   "cell_type": "markdown",
   "id": "dad28c0a-30e1-456f-b002-76edcbcdcc3d",
   "metadata": {},
   "source": [
    "### Derive vector"
   ]
  },
  {
   "cell_type": "code",
   "execution_count": 70,
   "id": "b02d504d-4e3f-4a3b-b10c-dd1713d35338",
   "metadata": {
    "tags": []
   },
   "outputs": [
    {
     "name": "stdout",
     "output_type": "stream",
     "text": [
      "[]\n"
     ]
    }
   ],
   "source": [
    "# Encode the Document\n",
    "vector = count_vect.transform(f)\n",
    " \n",
    "# Summarizing the Encoded Texts\n",
    "print(vector.toarray())"
   ]
  },
  {
   "cell_type": "markdown",
   "id": "c946b60b-f89f-4625-8aa2-aa9f2ca988d9",
   "metadata": {},
   "source": [
    "## Create matrix"
   ]
  },
  {
   "cell_type": "code",
   "execution_count": null,
   "id": "8e74cc80-8c8c-40a9-bcbc-86cf3124dfac",
   "metadata": {
    "tags": []
   },
   "outputs": [],
   "source": [
    "import pandas as pd\n",
    "\n",
    "names = cv.get_feature_names_out() # This are the entity names (i.e. keywords)\n",
    "df = pd.DataFrame(data = Xc.toarray(), columns = names, index = names)\n",
    "df.to_csv('to_gephi.csv', sep = ',')"
   ]
  },
  {
   "cell_type": "code",
   "execution_count": null,
   "id": "cc74548b-9375-4a0f-a660-2489e75b5ece",
   "metadata": {},
   "outputs": [],
   "source": [
    "# OLD CODE\n",
    "'''\n",
    "import pandas as pd\n",
    "\n",
    "df = pd.read_csv(\"keywords_LGBTIQ_datasets.csv\", sep = ';', encoding=\"latin-1\")\n",
    "df = df.rename(columns={'id': 'ident'})\n",
    "\n",
    "# Read csv into dictionary with ident as keys and topics as values (in a list)\n",
    "# 2nd answer here: https://stackoverflow.com/questions/56062627/converting-csv-to-dictionary-with-one-column-as-keys-and-one-column-as-its-value \n",
    "df = df.applymap(str).groupby('ident')['topics_level_1'].apply(list).to_dict()\n",
    "#print(df)\n",
    "\n",
    "# Iterate over dictionary: https://realpython.com/iterate-through-dictionary-python/\n",
    "# Convert list to string: https://www.freecodecamp.org/news/python-list-to-string-how-to-convert-lists-in-python/ \n",
    "for key in df:\n",
    "    #print(df[key])\n",
    "    with open(\"output.txt\", 'w') as f:\n",
    "        for key in df:\n",
    "            string_list = ['\"{0}\"'.format(element) for element in df[key]]  # turns list into string, but keeps \" \"\n",
    "            delimiter = \" \"\n",
    "            result_string = delimiter.join(string_list)\n",
    "            f.write('\"%s\",\\n' % (result_string))  \n",
    "'''"
   ]
  },
  {
   "cell_type": "code",
   "execution_count": null,
   "id": "25ac8b6a-67fb-4f66-9627-012c7f411ed6",
   "metadata": {},
   "outputs": [],
   "source": [
    "# OLD CODE\n",
    "'''\n",
    "from sklearn.feature_extraction.text import CountVectorizer\n",
    "import re\n",
    "\n",
    "f = open(\"output.txt\", \"r\")\n",
    "\n",
    "tokenizer = lambda s: [token.strip() for token in re.split(r'(?= )', s.strip())]\n",
    "# Defines how expressions are seperated using REGEX: Split at _\"\n",
    "# https://stackoverflow.com/questions/43067373/split-by-comma-and-how-to-exclude-comma-from-quotes-in-split/43067487#43067487\n",
    "# https://docs.python.org/2/library/re.html#re.split\n",
    "\n",
    "count_vect = CountVectorizer(tokenizer=tokenizer)\n",
    "count_vect.fit(f)\n",
    "\n",
    "print(count_vect.vocabulary_)\n",
    "\n",
    "# Unique words along with indeces (= words sorted alphabetically, index is the place in the sorted list)\n",
    "'''"
   ]
  },
  {
   "cell_type": "code",
   "execution_count": null,
   "id": "4dcf5a03-42ed-49c5-a6e8-1bd70d562403",
   "metadata": {},
   "outputs": [],
   "source": [
    "# OLD CODE\n",
    "'''\n",
    "# sklearn countvectorizer\n",
    "from sklearn.feature_extraction.text import CountVectorizer\n",
    "\n",
    "f = open(\"output.txt\", \"r\")\n",
    "\n",
    "# Convert a collection of text documents to a matrix of token counts\n",
    "cv = CountVectorizer(ngram_range=(1,1), stop_words = 'english')\n",
    "\n",
    "# matrix of token counts\n",
    "X = cv.fit_transform(f)\n",
    "Xc = (X.T * X) # matrix manipulation\n",
    "Xc.setdiag(0) # set the diagonals to be zeroes as it's pointless to be 1\n",
    "'''"
   ]
  }
 ],
 "metadata": {
  "kernelspec": {
   "display_name": "Python 3 (ipykernel)",
   "language": "python",
   "name": "python3"
  },
  "language_info": {
   "codemirror_mode": {
    "name": "ipython",
    "version": 3
   },
   "file_extension": ".py",
   "mimetype": "text/x-python",
   "name": "python",
   "nbconvert_exporter": "python",
   "pygments_lexer": "ipython3",
   "version": "3.11.5"
  }
 },
 "nbformat": 4,
 "nbformat_minor": 5
}
